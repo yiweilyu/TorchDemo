{
 "cells": [
  {
   "cell_type": "markdown",
   "metadata": {},
   "source": [
    "# Pytorch Introduction\n"
   ]
  },
  {
   "cell_type": "code",
   "execution_count": 2,
   "metadata": {},
   "outputs": [
    {
     "name": "stdout",
     "output_type": "stream",
     "text": [
      "Requirement already satisfied: torch in /Users/johnwilliams/MIT/Courses/Embeddings/.conda/lib/python3.11/site-packages (2.0.1)\n",
      "Requirement already satisfied: filelock in /Users/johnwilliams/MIT/Courses/Embeddings/.conda/lib/python3.11/site-packages (from torch) (3.12.3)\n",
      "Requirement already satisfied: typing-extensions in /Users/johnwilliams/MIT/Courses/Embeddings/.conda/lib/python3.11/site-packages (from torch) (4.5.0)\n",
      "Requirement already satisfied: sympy in /Users/johnwilliams/MIT/Courses/Embeddings/.conda/lib/python3.11/site-packages (from torch) (1.12)\n",
      "Requirement already satisfied: networkx in /Users/johnwilliams/MIT/Courses/Embeddings/.conda/lib/python3.11/site-packages (from torch) (3.1)\n",
      "Requirement already satisfied: jinja2 in /Users/johnwilliams/MIT/Courses/Embeddings/.conda/lib/python3.11/site-packages (from torch) (3.1.2)\n",
      "Requirement already satisfied: MarkupSafe>=2.0 in /Users/johnwilliams/MIT/Courses/Embeddings/.conda/lib/python3.11/site-packages (from jinja2->torch) (2.1.3)\n",
      "Requirement already satisfied: mpmath>=0.19 in /Users/johnwilliams/MIT/Courses/Embeddings/.conda/lib/python3.11/site-packages (from sympy->torch) (1.3.0)\n",
      "Note: you may need to restart the kernel to use updated packages.\n"
     ]
    }
   ],
   "source": [
    "%pip install torch\n",
    "import torch"
   ]
  },
  {
   "cell_type": "code",
   "execution_count": 3,
   "metadata": {},
   "outputs": [
    {
     "data": {
      "text/plain": [
       "'2.0.1'"
      ]
     },
     "execution_count": 3,
     "metadata": {},
     "output_type": "execute_result"
    }
   ],
   "source": [
    "torch.__version__"
   ]
  },
  {
   "cell_type": "code",
   "execution_count": 67,
   "metadata": {},
   "outputs": [
    {
     "name": "stdout",
     "output_type": "stream",
     "text": [
      "r1: 14\n"
     ]
    },
    {
     "data": {
      "text/plain": [
       "tensor([[14]])"
      ]
     },
     "execution_count": 67,
     "metadata": {},
     "output_type": "execute_result"
    }
   ],
   "source": [
    "v1 = torch.tensor([1, 2, 3])\n",
    "v1.shape\n",
    "r1 = torch.matmul(v1, v1)\n",
    "print(f'r1: {r1}')\n",
    "v2 = torch.tensor([[1], [2], [3]])\n",
    "r = torch.matmul(v2.T, v2)\n",
    "r"
   ]
  },
  {
   "cell_type": "code",
   "execution_count": 55,
   "metadata": {},
   "outputs": [
    {
     "name": "stdout",
     "output_type": "stream",
     "text": [
      "M2 = tensor([[1, 3, 4],\n",
      "        [2, 4, 5]]) with shape torch.Size([2, 3])\n",
      "M3 = tensor([[1, 3, 4],\n",
      "        [2, 4, 5]]) with shape torch.Size([2, 3])\n"
     ]
    }
   ],
   "source": [
    "scalar = torch.tensor(7)\n",
    "vector = torch.tensor([1, 2, 3])\n",
    "M1 = torch.tensor([[1, 2], [3, 4], [4, 5]])\n",
    "M2 = M1.T    # this only works for 2D tensors\n",
    "print(f'M2 = {M2} with shape {M2.shape}')\n",
    "M3 = torch.transpose(M1,0,1)\n",
    "print(f'M3 = {M3} with shape {M3.shape}')\n",
    "\n",
    "\n"
   ]
  },
  {
   "cell_type": "code",
   "execution_count": 60,
   "metadata": {},
   "outputs": [
    {
     "ename": "RuntimeError",
     "evalue": "mat1 and mat2 shapes cannot be multiplied (2x3 and 2x3)",
     "output_type": "error",
     "traceback": [
      "\u001b[0;31m---------------------------------------------------------------------------\u001b[0m",
      "\u001b[0;31mRuntimeError\u001b[0m                              Traceback (most recent call last)",
      "\u001b[1;32m/Users/johnwilliams/MIT/Courses/1125Fall2023/TorchDemo/exercise001.ipynb Cell 5\u001b[0m line \u001b[0;36m2\n\u001b[1;32m      <a href='vscode-notebook-cell:/Users/johnwilliams/MIT/Courses/1125Fall2023/TorchDemo/exercise001.ipynb#X31sZmlsZQ%3D%3D?line=0'>1</a>\u001b[0m M1 \u001b[39m=\u001b[39m torch\u001b[39m.\u001b[39mrand(\u001b[39m2\u001b[39m,\u001b[39m3\u001b[39m)\n\u001b[0;32m----> <a href='vscode-notebook-cell:/Users/johnwilliams/MIT/Courses/1125Fall2023/TorchDemo/exercise001.ipynb#X31sZmlsZQ%3D%3D?line=1'>2</a>\u001b[0m r \u001b[39m=\u001b[39m torch\u001b[39m.\u001b[39;49mmatmul(M1,M1)\n\u001b[1;32m      <a href='vscode-notebook-cell:/Users/johnwilliams/MIT/Courses/1125Fall2023/TorchDemo/exercise001.ipynb#X31sZmlsZQ%3D%3D?line=2'>3</a>\u001b[0m r\n",
      "\u001b[0;31mRuntimeError\u001b[0m: mat1 and mat2 shapes cannot be multiplied (2x3 and 2x3)"
     ]
    }
   ],
   "source": [
    "M1 = torch.rand(2,3)\n",
    "r = torch.matmul(M1,M1)\n",
    "r"
   ]
  },
  {
   "cell_type": "code",
   "execution_count": 32,
   "metadata": {},
   "outputs": [
    {
     "name": "stdout",
     "output_type": "stream",
     "text": [
      "M3 = tensor([[1, 2, 3],\n",
      "        [4, 5, 6]]) with shape torch.Size([2, 3])\n",
      "M4=tensor([[[1, 2, 3],\n",
      "         [4, 5, 6]],\n",
      "\n",
      "        [[7, 8, 9],\n",
      "         [0, 1, 2]]]) with shape torch.Size([2, 2, 3])\n"
     ]
    },
    {
     "data": {
      "text/plain": [
       "tensor([[17, 22, 27],\n",
       "        [22, 29, 36],\n",
       "        [27, 36, 45]])"
      ]
     },
     "execution_count": 32,
     "metadata": {},
     "output_type": "execute_result"
    }
   ],
   "source": [
    "M3= torch.tensor([[1, 2, 3], [4, 5, 6]])\n",
    "M4 = torch.tensor([[[1, 2, 3], [4, 5, 6]], [[7, 8, 9], [0, 1, 2]]])\n",
    "print(f'M3 = {M3} with shape {M3.shape}')\n",
    "print(f'M4={M4} with shape {M4.shape}')\n",
    "result = torch.matmul(M3.T,M3)\n",
    "result"
   ]
  },
  {
   "cell_type": "markdown",
   "metadata": {},
   "source": [
    "# Random Tensors"
   ]
  },
  {
   "cell_type": "code",
   "execution_count": 23,
   "metadata": {},
   "outputs": [
    {
     "data": {
      "text/plain": [
       "tensor([[[0.5409, 0.8765, 0.4597, 0.9090],\n",
       "         [0.3296, 0.1171, 0.7557, 0.2811],\n",
       "         [0.1850, 0.5942, 0.9484, 0.6683],\n",
       "         [0.5376, 0.4324, 0.3399, 0.1467]],\n",
       "\n",
       "        [[0.6704, 0.8111, 0.5412, 0.9128],\n",
       "         [0.0047, 0.4294, 0.6374, 0.7867],\n",
       "         [0.5108, 0.2214, 0.0272, 0.4520],\n",
       "         [0.1799, 0.4876, 0.0866, 0.5837]],\n",
       "\n",
       "        [[0.4769, 0.7019, 0.1148, 0.7994],\n",
       "         [0.3846, 0.3354, 0.7667, 0.0818],\n",
       "         [0.4080, 0.6779, 0.0440, 0.0072],\n",
       "         [0.5776, 0.5763, 0.7583, 0.5151]]])"
      ]
     },
     "execution_count": 23,
     "metadata": {},
     "output_type": "execute_result"
    }
   ],
   "source": [
    "M1 = torch.rand(3, 3)\n",
    "M2 = torch.rand(10,10)\n",
    "T1 = torch.rand(3, 4, 4)\n",
    "T1"
   ]
  },
  {
   "cell_type": "code",
   "execution_count": 251,
   "metadata": {},
   "outputs": [
    {
     "data": {
      "text/plain": [
       "tensor([[1., 1., 1., 1., 1.],\n",
       "        [0., 1., 1., 1., 1.],\n",
       "        [0., 0., 1., 1., 1.],\n",
       "        [0., 0., 0., 1., 1.],\n",
       "        [0., 0., 0., 0., 1.]])"
      ]
     },
     "execution_count": 251,
     "metadata": {},
     "output_type": "execute_result"
    }
   ],
   "source": [
    "matrix_ones = torch.ones(5, 5)\n",
    "\n",
    "# Use torch.triu() to get the upper triangular matrix\n",
    "triangular_matrix = torch.triu(matrix_ones)\n",
    "\n",
    "triangular_matrix"
   ]
  },
  {
   "cell_type": "code",
   "execution_count": 252,
   "metadata": {},
   "outputs": [
    {
     "data": {
      "text/plain": [
       "tensor([[1., 0., 0., 0., 0.],\n",
       "        [1., 1., 0., 0., 0.],\n",
       "        [1., 1., 1., 0., 0.],\n",
       "        [1., 1., 1., 1., 0.],\n",
       "        [1., 1., 1., 1., 1.]])"
      ]
     },
     "execution_count": 252,
     "metadata": {},
     "output_type": "execute_result"
    }
   ],
   "source": [
    "# Use torch.tril() to get the lower triangular matrix\n",
    "triangular_matrix = torch.tril(matrix_ones)\n",
    "triangular_matrix"
   ]
  },
  {
   "cell_type": "code",
   "execution_count": 253,
   "metadata": {},
   "outputs": [
    {
     "name": "stdout",
     "output_type": "stream",
     "text": [
      "tensor([[0.0851, 0.0920, 0.2883, 0.1000, 0.1125],\n",
      "        [0.3914, 0.5415, 0.4734, 0.5778, 0.5243],\n",
      "        [0.9170, 0.5597, 0.5344, 0.5249, 0.5105],\n",
      "        [0.4227, 0.4324, 0.9338, 0.4716, 0.8871],\n",
      "        [0.7086, 0.9835, 0.9304, 0.1313, 0.1451]])\n"
     ]
    },
    {
     "data": {
      "text/plain": [
       "tensor([[0.0851, 0.0000, 0.0000, 0.0000, 0.0000],\n",
       "        [0.3914, 0.5415, 0.0000, 0.0000, 0.0000],\n",
       "        [0.9170, 0.5597, 0.5344, 0.0000, 0.0000],\n",
       "        [0.4227, 0.4324, 0.9338, 0.4716, 0.0000],\n",
       "        [0.7086, 0.9835, 0.9304, 0.1313, 0.1451]])"
      ]
     },
     "execution_count": 253,
     "metadata": {},
     "output_type": "execute_result"
    }
   ],
   "source": [
    "# from a full random matrix of 5x5 get the first element of row 1, the first two elements of row 2, the first three elements of row 3, and so on\n",
    "matrix = torch.rand(5, 5)\n",
    "print(matrix)\n",
    "result = matrix * triangular_matrix\n",
    "result\n"
   ]
  },
  {
   "cell_type": "code",
   "execution_count": 254,
   "metadata": {},
   "outputs": [
    {
     "data": {
      "text/plain": [
       "tensor([[1., 0., 0., 0., 0.],\n",
       "        [1., 1., 0., 0., 0.],\n",
       "        [1., 1., 1., 0., 0.],\n",
       "        [1., 1., 1., 1., 0.],\n",
       "        [1., 1., 1., 1., 1.]])"
      ]
     },
     "execution_count": 254,
     "metadata": {},
     "output_type": "execute_result"
    }
   ],
   "source": [
    "# create a matrix of ones \"like\" result, but with the ones on the lower triangular part\n",
    "# make lower triangle ones by usine torch.like\n",
    "lower_ones = torch.ones_like(result).tril()\n",
    "lower_ones\n",
    "\n",
    "\n",
    "\n",
    "\n",
    "\n"
   ]
  },
  {
   "cell_type": "code",
   "execution_count": 255,
   "metadata": {},
   "outputs": [
    {
     "data": {
      "text/plain": [
       "tensor([[3., 3.],\n",
       "        [3., 3.]])"
      ]
     },
     "execution_count": 255,
     "metadata": {},
     "output_type": "execute_result"
    }
   ],
   "source": [
    "# matrix multiplication\n",
    "A = torch.ones(2,3)\n",
    "M = torch.matmul(A, A.T)\n",
    "M"
   ]
  },
  {
   "cell_type": "code",
   "execution_count": 256,
   "metadata": {},
   "outputs": [
    {
     "data": {
      "text/plain": [
       "torch.Size([3])"
      ]
     },
     "execution_count": 256,
     "metadata": {},
     "output_type": "execute_result"
    }
   ],
   "source": [
    "# Squeeze removes all the dimensions that have a size of 1\n",
    "A = torch.tensor([[1, 2, 3]]).squeeze()\n",
    "A.shape"
   ]
  },
  {
   "cell_type": "code",
   "execution_count": 257,
   "metadata": {},
   "outputs": [
    {
     "name": "stdout",
     "output_type": "stream",
     "text": [
      "torch.Size([10, 10, 3])\n"
     ]
    },
    {
     "data": {
      "text/plain": [
       "torch.Size([3, 10, 10])"
      ]
     },
     "execution_count": 257,
     "metadata": {},
     "output_type": "execute_result"
    }
   ],
   "source": [
    "# permute the dimensions of a tensor for a color image 10x10x3 with 3 channels\n",
    "image = torch.rand(10, 10, 3)\n",
    "print(image.shape)\n",
    "new_image = image.permute(2, 0, 1)  \n",
    "new_image.shape"
   ]
  },
  {
   "cell_type": "code",
   "execution_count": 258,
   "metadata": {},
   "outputs": [
    {
     "name": "stdout",
     "output_type": "stream",
     "text": [
      "tensor([[5.1828e-01, 8.6017e-01, 2.3171e-01],\n",
      "        [2.1220e-01, 9.1323e-01, 6.7700e-01],\n",
      "        [1.6902e-01, 3.0833e-04, 3.2400e-01]])\n"
     ]
    },
    {
     "data": {
      "text/plain": [
       "tensor([0.5183, 0.8602])"
      ]
     },
     "execution_count": 258,
     "metadata": {},
     "output_type": "execute_result"
    }
   ],
   "source": [
    "# indexing and slicing\n",
    "# create a 3x3 matrix with random values\n",
    "matrix = torch.rand(3, 3)\n",
    "print(matrix)\n",
    "# get the first row\n",
    "first_row = matrix[0, 0:2]\n",
    "first_row"
   ]
  },
  {
   "cell_type": "code",
   "execution_count": 259,
   "metadata": {},
   "outputs": [
    {
     "data": {
      "text/plain": [
       "device(type='cpu')"
      ]
     },
     "execution_count": 259,
     "metadata": {},
     "output_type": "execute_result"
    }
   ],
   "source": [
    "# Get a GPU\n",
    "device = torch.device(\"cuda:0\" if torch.cuda.is_available() else \"cpu\")\n",
    "device"
   ]
  },
  {
   "cell_type": "markdown",
   "metadata": {},
   "source": [
    "# Python Classes"
   ]
  },
  {
   "cell_type": "code",
   "execution_count": 260,
   "metadata": {},
   "outputs": [
    {
     "name": "stdout",
     "output_type": "stream",
     "text": [
      "Mikey is 6 years old\n",
      "Mikey says Gruff Gruff\n"
     ]
    }
   ],
   "source": [
    "# Python Classes https://www.geeksforgeeks.org/python-classes-and-objects/#\n",
    "class Dog:\n",
    "    # Class Attribute\n",
    "    species = 'mammal'\n",
    "    # Initializer / Instance Attributes\n",
    "    def __init__(self, name, age):\n",
    "        self.name = name\n",
    "        self.age = age\n",
    "    # instance method\n",
    "    def description(self):\n",
    "        return \"{} is {} years old\".format(self.name, self.age)\n",
    "    # instance method\n",
    "    def speak(self, sound):\n",
    "        return \"{} says {}\".format(self.name, sound)\n",
    "    \n",
    "# Instantiate the Dog object\n",
    "mikey = Dog(\"Mikey\", 6)\n",
    "# call our instance methods\n",
    "print(mikey.description())\n",
    "print(mikey.speak(\"Gruff Gruff\"))"
   ]
  },
  {
   "cell_type": "markdown",
   "metadata": {},
   "source": [
    "# Linear Regression Model"
   ]
  },
  {
   "cell_type": "code",
   "execution_count": 1,
   "metadata": {},
   "outputs": [
    {
     "name": "stdout",
     "output_type": "stream",
     "text": [
      "tensor([[1., 1.],\n",
      "        [2., 1.],\n",
      "        [3., 1.],\n",
      "        [4., 1.],\n",
      "        [5., 1.]])\n",
      "tensor([[ 5.],\n",
      "        [ 7.],\n",
      "        [ 9.],\n",
      "        [11.],\n",
      "        [13.]])\n"
     ]
    },
    {
     "name": "stderr",
     "output_type": "stream",
     "text": [
      "C:\\Users\\lucyl\\AppData\\Local\\Temp\\ipykernel_28352\\2719277491.py:4: UserWarning: Failed to initialize NumPy: module compiled against API version 0x10 but this version of numpy is 0xf . Check the section C-API incompatibility at the Troubleshooting ImportError section at https://numpy.org/devdocs/user/troubleshooting-importerror.html#c-api-incompatibility for indications on how to solve this problem . (Triggered internally at ..\\torch\\csrc\\utils\\tensor_numpy.cpp:84.)\n",
      "  X_train = torch.tensor([[1, 1], [2, 1], [3, 1], [4, 1], [5, 1]], dtype=torch.float32)\n"
     ]
    }
   ],
   "source": [
    "# generate training data for line y = 2x + 3\n",
    "import numpy as np\n",
    "import torch\n",
    "X_train = torch.tensor([[1, 1], [2, 1], [3, 1], [4, 1], [5, 1]], dtype=torch.float32)\n",
    "y_train = torch.tensor([[5], [7], [9], [11], [13]], dtype=torch.float32)\n",
    "print(X_train)\n",
    "print(y_train)"
   ]
  },
  {
   "cell_type": "code",
   "execution_count": 5,
   "metadata": {},
   "outputs": [],
   "source": [
    "from torch import nn as nn\n",
    "from torch import optim as optim"
   ]
  },
  {
   "cell_type": "code",
   "execution_count": 7,
   "metadata": {},
   "outputs": [
    {
     "name": "stdout",
     "output_type": "stream",
     "text": [
      "Epoch [100/1000], Loss: 0.1522\n",
      "Epoch [200/1000], Loss: 0.0429\n",
      "Epoch [300/1000], Loss: 0.0121\n",
      "Epoch [400/1000], Loss: 0.0034\n",
      "Epoch [500/1000], Loss: 0.0010\n",
      "Epoch [600/1000], Loss: 0.0003\n",
      "Epoch [700/1000], Loss: 0.0001\n",
      "Epoch [800/1000], Loss: 0.0000\n",
      "Epoch [900/1000], Loss: 0.0000\n",
      "Epoch [1000/1000], Loss: 0.0000\n"
     ]
    },
    {
     "data": {
      "text/plain": [
       "tensor([[15.0021],\n",
       "        [17.0029]], grad_fn=<AddmmBackward0>)"
      ]
     },
     "execution_count": 7,
     "metadata": {},
     "output_type": "execute_result"
    }
   ],
   "source": [
    "# Build the Neural Network\n",
    "class LinearRegressionNet(nn.Module):\n",
    "    def __init__(self):\n",
    "        super(LinearRegressionNet, self).__init__()\n",
    "        # One fully connected layer (input_dim=2, output_dim=1)\n",
    "        self.fc = nn.Linear(2, 1)\n",
    "        \n",
    "    def forward(self, x):\n",
    "        return self.fc(x)\n",
    "\n",
    "# Instantiate the network\n",
    "net = LinearRegressionNet()\n",
    "\n",
    "# Define the loss and optimizer\n",
    "criterion = nn.MSELoss()\n",
    "optimizer = optim.SGD(net.parameters(), lr=0.01)\n",
    "\n",
    "# Train the Network\n",
    "num_epochs = 1000\n",
    "for epoch in range(num_epochs):\n",
    "    # Zero the gradients\n",
    "    optimizer.zero_grad()\n",
    "    \n",
    "    # Forward pass\n",
    "    outputs = net(X_train)\n",
    "    loss = criterion(outputs, y_train)\n",
    "    \n",
    "    # Backward pass and optimize\n",
    "    loss.backward()\n",
    "    optimizer.step()\n",
    "\n",
    "    # Print loss every 100 epochs\n",
    "    if (epoch+1) % 100 == 0:\n",
    "        print(f'Epoch [{epoch+1}/{num_epochs}], Loss: {loss.item():.4f}')\n",
    "\n",
    "# Test the network\n",
    "test_data = torch.tensor([[6, 1], [7, 1]], dtype=torch.float32)\n",
    "predictions = net(test_data)\n",
    "predictions\n"
   ]
  },
  {
   "cell_type": "markdown",
   "metadata": {},
   "source": [
    "# Recode using weights as nn.Parameter"
   ]
  },
  {
   "cell_type": "code",
   "execution_count": null,
   "metadata": {},
   "outputs": [],
   "source": [
    "class LinearRegressionModel(nn.Module):\n",
    "    def __init__(self):\n",
    "        super(LinearRegressionModel, self).__init__()\n",
    "        self.weights = nn.Parameter(torch.tensor([1, 1], requires_grad=True, dtype=torch.float32))\n",
    "        \n",
    "    def forward(self, x):\n",
    "        return x @ self.weights"
   ]
  }
 ],
 "metadata": {
  "kernelspec": {
   "display_name": "Python 3",
   "language": "python",
   "name": "python3"
  },
  "language_info": {
   "codemirror_mode": {
    "name": "ipython",
    "version": 3
   },
   "file_extension": ".py",
   "mimetype": "text/x-python",
   "name": "python",
   "nbconvert_exporter": "python",
   "pygments_lexer": "ipython3",
   "version": "3.10.11"
  },
  "orig_nbformat": 4
 },
 "nbformat": 4,
 "nbformat_minor": 2
}
